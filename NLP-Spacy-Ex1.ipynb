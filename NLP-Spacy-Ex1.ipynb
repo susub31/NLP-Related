{
 "cells": [
  {
   "cell_type": "code",
   "execution_count": 1,
   "metadata": {},
   "outputs": [
    {
     "name": "stderr",
     "output_type": "stream",
     "text": [
      "C:\\Users\\sudha\\Anaconda3\\lib\\importlib\\_bootstrap.py:219: RuntimeWarning: cymem.cymem.Pool size changed, may indicate binary incompatibility. Expected 48 from C header, got 64 from PyObject\n",
      "  return f(*args, **kwds)\n",
      "C:\\Users\\sudha\\Anaconda3\\lib\\importlib\\_bootstrap.py:219: RuntimeWarning: cymem.cymem.Address size changed, may indicate binary incompatibility. Expected 24 from C header, got 40 from PyObject\n",
      "  return f(*args, **kwds)\n",
      "C:\\Users\\sudha\\Anaconda3\\lib\\importlib\\_bootstrap.py:219: RuntimeWarning: cymem.cymem.Pool size changed, may indicate binary incompatibility. Expected 48 from C header, got 64 from PyObject\n",
      "  return f(*args, **kwds)\n",
      "C:\\Users\\sudha\\Anaconda3\\lib\\importlib\\_bootstrap.py:219: RuntimeWarning: cymem.cymem.Address size changed, may indicate binary incompatibility. Expected 24 from C header, got 40 from PyObject\n",
      "  return f(*args, **kwds)\n"
     ]
    }
   ],
   "source": [
    "import spacy\n",
    "import textacy"
   ]
  },
  {
   "cell_type": "code",
   "execution_count": 2,
   "metadata": {},
   "outputs": [],
   "source": [
    "nlp = spacy.load('en_core_web_lg')"
   ]
  },
  {
   "cell_type": "code",
   "execution_count": 36,
   "metadata": {},
   "outputs": [
    {
     "name": "stdout",
     "output_type": "stream",
     "text": [
      "Wells Fargo & Company (ORG)\n",
      "American (NORP)\n",
      "San Francisco (GPE)\n",
      "\n",
      "California (ORG)\n",
      "the United States (GPE)\n",
      "second (ORDINAL)\n",
      "fourth (ORDINAL)\n",
      "US (GPE)\n",
      "Wells Fargo (ORG)\n",
      "26 (MONEY)\n",
      "2018 (DATE)\n",
      "500 (CARDINAL)\n",
      "US (GPE)\n",
      "July 2015 (DATE)\n",
      "Wells Fargo (ORG)\n",
      "ICBC (GPE)\n",
      "JPMorgan Chase (ORG)\n",
      "September 2016 (DATE)\n",
      "over 2 million (CARDINAL)\n",
      "Wells Fargo (ORG)\n",
      "Wells Fargo (ORG)\n",
      "Citigroup (ORG)\n",
      "third (ORDINAL)\n",
      "US (GPE)\n",
      "the end of 2015 (DATE)\n",
      "Bank of America (ORG)\n",
      "third (ORDINAL)\n",
      "2017 (DATE)\n"
     ]
    }
   ],
   "source": [
    "text = \"\"\"Wells Fargo & Company is an American multinational financial services company headquartered in San Francisco, \n",
    "California, with central offices throughout the United States. It is the world's second-largest bank by market \n",
    "capitalization and the fourth largest bank in the US by total assets.Wells Fargo is ranked #26 on the 2018 Fortune 500 \n",
    "rankings of the largest US corporations by total revenue.In July 2015, Wells Fargo became the world's largest bank \n",
    "by market capitalization, edging past ICBC, before slipping behind JPMorgan Chase in September 2016, in the wake of \n",
    "a scandal involving the creation of over 2 million fake bank accounts by Wells Fargo employees. Wells Fargo surpassed \n",
    "Citigroup to become the third-largest US bank by assets at the end of 2015 but fell behind Bank of America to third in \n",
    "bank deposits in 2017.\n",
    "\"\"\"\n",
    "\n",
    "doc = nlp(text)\n",
    "\n",
    "for entity in doc.ents:\n",
    "    print(f\"{entity.text} ({entity.label_})\")"
   ]
  },
  {
   "cell_type": "code",
   "execution_count": 4,
   "metadata": {},
   "outputs": [],
   "source": [
    "doc = nlp('Sentil worked with Ram at Microsoft last year')"
   ]
  },
  {
   "cell_type": "code",
   "execution_count": 5,
   "metadata": {},
   "outputs": [
    {
     "name": "stdout",
     "output_type": "stream",
     "text": [
      "Sentil (PERSON)\n",
      "Ram (PERSON)\n",
      "Microsoft (ORG)\n",
      "last year (DATE)\n"
     ]
    }
   ],
   "source": [
    "for entity in doc.ents:\n",
    "    print(f\"{entity.text} ({entity.label_})\")"
   ]
  },
  {
   "cell_type": "code",
   "execution_count": 41,
   "metadata": {},
   "outputs": [],
   "source": [
    "doc = nlp(text)\n",
    "statements = textacy.extract.semistructured_statements(doc, \"Wells Fargo\")"
   ]
  },
  {
   "cell_type": "code",
   "execution_count": 42,
   "metadata": {},
   "outputs": [
    {
     "name": "stdout",
     "output_type": "stream",
     "text": [
      "Here are the info about Wells Fargo:\n",
      "-an American multinational financial services company headquartered in San Francisco, \n",
      "California, with central offices throughout the United States\n"
     ]
    }
   ],
   "source": [
    "print(\"Here are the info about Wells Fargo:\")\n",
    "for statement in statements:\n",
    "    subject, verb, fact = statement\n",
    "    print(f\"-{fact}\")"
   ]
  },
  {
   "cell_type": "code",
   "execution_count": 8,
   "metadata": {},
   "outputs": [
    {
     "data": {
      "text/plain": [
       "generator"
      ]
     },
     "execution_count": 8,
     "metadata": {},
     "output_type": "execute_result"
    }
   ],
   "source": [
    "type(statements)"
   ]
  },
  {
   "cell_type": "code",
   "execution_count": 43,
   "metadata": {},
   "outputs": [],
   "source": [
    "wiki_wf = \"\"\"Wells Fargo & Company is an American multinational financial services company headquartered in San Francisco, California, with central offices throughout the United States. It is the world's second-largest bank by market capitalization and the fourth largest bank in the US by total assets.Wells Fargo is ranked #26 on the 2018 Fortune 500 rankings of the largest US corporations by total revenue.In July 2015, Wells Fargo became the world's largest bank by market capitalization, edging past ICBC, before slipping behind JPMorgan Chase in September 2016, in the wake of a scandal involving the creation of over 2 million fake bank accounts by Wells Fargo employees. Wells Fargo surpassed Citigroup to become the third-largest US bank by assets at the end of 2015 but fell behind Bank of America to third in bank deposits in 2017\"\"\"\n",
    "\n",
    "wiki_wf2 = \"\"\"Wells Fargo is national bank, which designates its main office as Sioux Falls, South Dakota. Wells Fargo in its present form is a result of a merger between San Francisco–based Wells Fargo & Company and Minneapolis-based Norwest Corporation in 1998 and the subsequent 2008 acquisition of Charlotte-based Wachovia\"\"\""
   ]
  },
  {
   "cell_type": "code",
   "execution_count": 34,
   "metadata": {},
   "outputs": [],
   "source": [
    "doc = nlp(wiki_wf)\n",
    "statements = textacy.extract.semistructured_statements(doc, \"Wells Fargo\")"
   ]
  },
  {
   "cell_type": "code",
   "execution_count": 35,
   "metadata": {},
   "outputs": [
    {
     "name": "stdout",
     "output_type": "stream",
     "text": [
      "Here are the info about Wells Fargo:\n",
      "-an American multinational financial services company headquartered in San Francisco, California, with central offices throughout the United States\n"
     ]
    }
   ],
   "source": [
    "print(\"Here are the info about Wells Fargo:\")\n",
    "for statement in statements:\n",
    "    subject, verb, fact = statement\n",
    "    print(f\"-{fact}\")"
   ]
  },
  {
   "cell_type": "code",
   "execution_count": 45,
   "metadata": {},
   "outputs": [
    {
     "name": "stdout",
     "output_type": "stream",
     "text": [
      "Here are the info about Wells Fargo:\n",
      "-national bank, which designates its main office as Sioux Falls, South Dakota\n"
     ]
    }
   ],
   "source": [
    "doc2 = nlp(wiki_wf2)\n",
    "statements2 = textacy.extract.semistructured_statements(doc2, \"Wells Fargo\")\n",
    "print(\"Here are the info about Wells Fargo:\")\n",
    "for statement in statements2:\n",
    "    subject, verb, fact = statement\n",
    "    print(f\"-{fact}\")"
   ]
  },
  {
   "cell_type": "code",
   "execution_count": 30,
   "metadata": {},
   "outputs": [
    {
     "name": "stdout",
     "output_type": "stream",
     "text": [
      "Wells Fargo & Company (ORG)\n",
      "American (NORP)\n",
      "San Francisco (GPE)\n",
      "California (GPE)\n",
      "the United States (GPE)\n",
      "second (ORDINAL)\n",
      "fourth (ORDINAL)\n",
      "US (GPE)\n",
      "Wells Fargo (ORG)\n",
      "26 (MONEY)\n",
      "2018 (DATE)\n",
      "500 (CARDINAL)\n",
      "US (GPE)\n",
      "July 2015 (DATE)\n",
      "Wells Fargo (ORG)\n",
      "ICBC (GPE)\n",
      "JPMorgan Chase (ORG)\n",
      "September 2016 (DATE)\n",
      "over 2 million (CARDINAL)\n",
      "Wells Fargo (ORG)\n",
      "Wells Fargo (ORG)\n",
      "Citigroup (ORG)\n",
      "third (ORDINAL)\n",
      "US (GPE)\n",
      "the end of 2015 (DATE)\n",
      "Bank of America (ORG)\n",
      "third (ORDINAL)\n",
      "2017 (DATE)\n"
     ]
    }
   ],
   "source": [
    "for entity in doc.ents:\n",
    "    print(f\"{entity.text} ({entity.label_})\")"
   ]
  },
  {
   "cell_type": "code",
   "execution_count": 31,
   "metadata": {},
   "outputs": [
    {
     "name": "stdout",
     "output_type": "stream",
     "text": [
      "tomorrow (DATE)\n",
      "morning (TIME)\n"
     ]
    }
   ],
   "source": [
    "stmt = \"I want to transfer money from savings to checkings tomorrow morning\"\n",
    "\n",
    "doc = nlp(stmt)\n",
    "\n",
    "for entity in doc.ents:\n",
    "    print(f\"{entity.text} ({entity.label_})\")"
   ]
  },
  {
   "cell_type": "code",
   "execution_count": 32,
   "metadata": {},
   "outputs": [
    {
     "name": "stdout",
     "output_type": "stream",
     "text": [
      "I\n",
      "money\n",
      "savings\n",
      "checkings\n"
     ]
    }
   ],
   "source": [
    "for nc in doc.noun_chunks:\n",
    "    print (nc)"
   ]
  },
  {
   "cell_type": "code",
   "execution_count": null,
   "metadata": {},
   "outputs": [],
   "source": []
  }
 ],
 "metadata": {
  "kernelspec": {
   "display_name": "Python 3",
   "language": "python",
   "name": "python3"
  },
  "language_info": {
   "codemirror_mode": {
    "name": "ipython",
    "version": 3
   },
   "file_extension": ".py",
   "mimetype": "text/x-python",
   "name": "python",
   "nbconvert_exporter": "python",
   "pygments_lexer": "ipython3",
   "version": "3.6.5"
  }
 },
 "nbformat": 4,
 "nbformat_minor": 2
}
